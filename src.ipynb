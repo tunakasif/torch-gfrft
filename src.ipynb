{
 "cells": [
  {
   "cell_type": "code",
   "execution_count": 1,
   "metadata": {},
   "outputs": [],
   "source": [
    "import torch as th\n",
    "import torch.nn as nn\n",
    "\n",
    "from torch_gfrft import EigvalSortStrategy\n",
    "from torch_gfrft.gfrft import GFRFT\n",
    "from torch_gfrft.gft import GFT\n",
    "from torch_gfrft.layer import GFRFTLayer\n",
    "\n",
    "NUM_NODES = 100\n",
    "TIME_LENGTH = 200\n",
    "if th.cuda.is_available():\n",
    "    DEVICE = th.device('cuda')\n",
    "else:\n",
    "    DEVICE = th.device('cpu')"
   ]
  },
  {
   "cell_type": "code",
   "execution_count": 2,
   "metadata": {},
   "outputs": [],
   "source": [
    "A = th.rand(NUM_NODES, NUM_NODES, device=DEVICE)\n",
    "# A = A + A.T\n",
    "A = A - th.diag(th.diag(A))"
   ]
  },
  {
   "cell_type": "code",
   "execution_count": 3,
   "metadata": {},
   "outputs": [],
   "source": [
    "gft = GFT(A, EigvalSortStrategy.TOTAL_VARIATION)\n",
    "gfrft = GFRFT(gft.gft_mtx)"
   ]
  },
  {
   "cell_type": "code",
   "execution_count": 4,
   "metadata": {},
   "outputs": [],
   "source": [
    "original_order = 0.35\n",
    "th.manual_seed(0)\n",
    "X = th.randn(NUM_NODES, TIME_LENGTH, device=DEVICE)\n",
    "Y = gfrft.gfrft(X, original_order, dim=0)"
   ]
  },
  {
   "cell_type": "code",
   "execution_count": 5,
   "metadata": {},
   "outputs": [
    {
     "name": "stdout",
     "output_type": "stream",
     "text": [
      "Sequential(\n",
      "  (0): GFRFT(order=1.0, size=100, dim=0)\n",
      "  (1): GFRFT(order=0.0, size=100, dim=0)\n",
      ")\n",
      "Epoch    0 | Loss 58.1500 | a1 = 1.0000 | a2 = 0.0000\n",
      "Epoch  100 | Loss 35.9139 | a1 = 0.9078 | a2 = -0.0922\n",
      "Epoch  200 | Loss 22.7625 | a1 = 0.8299 | a2 = -0.1701\n",
      "Epoch  300 | Loss 11.5617 | a1 = 0.7540 | a2 = -0.2460\n",
      "Epoch  400 | Loss 0.1966 | a1 = 0.6737 | a2 = -0.3263\n",
      "Epoch  500 | Loss 0.0130 | a1 = 0.6749 | a2 = -0.3251\n",
      "Epoch  600 | Loss 0.0199 | a1 = 0.6749 | a2 = -0.3251\n",
      "Epoch  700 | Loss 0.0022 | a1 = 0.6750 | a2 = -0.3250\n",
      "Epoch  800 | Loss 0.0166 | a1 = 0.6751 | a2 = -0.3249\n",
      "Epoch  900 | Loss 0.0319 | a1 = 0.6752 | a2 = -0.3248\n",
      "Epoch 1000 | Loss 0.0047 | a1 = 0.6750 | a2 = -0.3250\n",
      "Original a: 0.3500, Final a1: 0.6750 | Final a2: -0.3250\n",
      "Final sum: 0.3499\n"
     ]
    }
   ],
   "source": [
    "def mse_loss(predictions: th.Tensor, targets: th.Tensor) -> th.Tensor:\n",
    "    return th.norm(predictions - targets, p='fro', dim=0).mean()\n",
    "\n",
    "model = nn.Sequential(\n",
    "    GFRFTLayer(gfrft, 1.0, dim=0),\n",
    "    GFRFTLayer(gfrft, 0.0, dim=0),\n",
    ")\n",
    "print(model)\n",
    "optim = th.optim.Adam(model.parameters(), lr=1e-3)\n",
    "epochs = 1000\n",
    "\n",
    "th.manual_seed(0)\n",
    "for epoch in range(epochs + 1):\n",
    "    optim.zero_grad()\n",
    "    output = mse_loss(model(X), Y)\n",
    "    if epoch % 100 == 0:\n",
    "        print(f\"Epoch {epoch:4d} | Loss {output.item():<4.4f} | a1 = {model[0].order.item():.4f} | a2 = {model[1].order.item():.4f}\")\n",
    "    output.backward()\n",
    "    optim.step()\n",
    "print(f\"Original a: {original_order:.4f}, Final a1: {model[0].order.item():.4f} | Final a2: {model[1].order.item():.4f}\")\n",
    "print(f\"Final sum: {model[0].order.item() + model[1].order.item():.4f}\")"
   ]
  }
 ],
 "metadata": {
  "kernelspec": {
   "display_name": ".venv",
   "language": "python",
   "name": "python3"
  },
  "language_info": {
   "codemirror_mode": {
    "name": "ipython",
    "version": 3
   },
   "file_extension": ".py",
   "mimetype": "text/x-python",
   "name": "python",
   "nbconvert_exporter": "python",
   "pygments_lexer": "ipython3",
   "version": "3.11.8"
  }
 },
 "nbformat": 4,
 "nbformat_minor": 2
}
