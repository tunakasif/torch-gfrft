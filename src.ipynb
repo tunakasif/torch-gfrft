{
 "cells": [
  {
   "cell_type": "code",
   "execution_count": 1,
   "metadata": {},
   "outputs": [],
   "source": [
    "import torch as th\n",
    "import torch.nn as nn\n",
    "\n",
    "from torch_gfrt import EigvalSortStrategy\n",
    "from torch_gfrt.gfrft import GFRT\n",
    "from torch_gfrt.gft import GFT\n",
    "from torch_gfrt.layer import GFRTLayer\n",
    "\n",
    "NUM_NODES = 100\n",
    "TIME_LENGTH = 200\n",
    "if th.cuda.is_available():\n",
    "    DEVICE = th.device('cuda')\n",
    "else:\n",
    "    DEVICE = th.device('cpu')"
   ]
  },
  {
   "cell_type": "code",
   "execution_count": 2,
   "metadata": {},
   "outputs": [],
   "source": [
    "A = th.rand(NUM_NODES, NUM_NODES, device=DEVICE)\n",
    "# A = A + A.T\n",
    "A = A - th.diag(th.diag(A))"
   ]
  },
  {
   "cell_type": "code",
   "execution_count": 3,
   "metadata": {},
   "outputs": [],
   "source": [
    "gft = GFT(A, EigvalSortStrategy.TOTAL_VARIATION)\n",
    "gfrt = GFRT(gft.gft_mtx)"
   ]
  },
  {
   "cell_type": "code",
   "execution_count": 4,
   "metadata": {},
   "outputs": [],
   "source": [
    "original_order = 0.35\n",
    "th.manual_seed(0)\n",
    "X = th.randn(NUM_NODES, TIME_LENGTH, device=DEVICE)\n",
    "Y = gfrt.gfrt(X, original_order, dim=0)"
   ]
  },
  {
   "cell_type": "code",
   "execution_count": 5,
   "metadata": {},
   "outputs": [
    {
     "name": "stdout",
     "output_type": "stream",
     "text": [
      "Sequential(\n",
      "  (0): GFRT(order=1.0, size=100, dim=0)\n",
      "  (1): GFRT(order=0.0, size=100, dim=0)\n",
      ")\n",
      "Epoch    0 | Loss 59.7111 | a1 = 1.0000 | a2 = 0.0000\n",
      "Epoch  100 | Loss 37.1993 | a1 = 0.9081 | a2 = -0.0919\n",
      "Epoch  200 | Loss 23.7966 | a1 = 0.8302 | a2 = -0.1698\n",
      "Epoch  300 | Loss 11.8672 | a1 = 0.7527 | a2 = -0.2473\n",
      "Epoch  400 | Loss 0.3659 | a1 = 0.6726 | a2 = -0.3274\n",
      "Epoch  500 | Loss 0.0026 | a1 = 0.6750 | a2 = -0.3250\n",
      "Epoch  600 | Loss 0.0160 | a1 = 0.6751 | a2 = -0.3249\n",
      "Epoch  700 | Loss 0.0237 | a1 = 0.6748 | a2 = -0.3252\n",
      "Epoch  800 | Loss 0.0028 | a1 = 0.6750 | a2 = -0.3250\n",
      "Epoch  900 | Loss 0.0167 | a1 = 0.6751 | a2 = -0.3249\n",
      "Epoch 1000 | Loss 0.0246 | a1 = 0.6748 | a2 = -0.3252\n",
      "Epoch 1100 | Loss 0.0029 | a1 = 0.6750 | a2 = -0.3250\n",
      "Epoch 1200 | Loss 0.0171 | a1 = 0.6751 | a2 = -0.3249\n",
      "Epoch 1300 | Loss 0.0251 | a1 = 0.6748 | a2 = -0.3252\n",
      "Epoch 1400 | Loss 0.0029 | a1 = 0.6750 | a2 = -0.3250\n",
      "Epoch 1500 | Loss 0.0174 | a1 = 0.6751 | a2 = -0.3249\n",
      "Epoch 1600 | Loss 0.0254 | a1 = 0.6748 | a2 = -0.3252\n",
      "Epoch 1700 | Loss 0.0030 | a1 = 0.6750 | a2 = -0.3250\n",
      "Epoch 1800 | Loss 0.0175 | a1 = 0.6751 | a2 = -0.3249\n",
      "Epoch 1900 | Loss 0.0256 | a1 = 0.6748 | a2 = -0.3252\n",
      "Epoch 2000 | Loss 0.0030 | a1 = 0.6750 | a2 = -0.3250\n",
      "Original a: 0.3500, Final a1: 0.6750 | Final a2: -0.3250\n",
      "Final sum: 0.3500\n"
     ]
    }
   ],
   "source": [
    "def mse_loss(predictions: th.Tensor, targets: th.Tensor) -> th.Tensor:\n",
    "    return th.norm(predictions - targets, p='fro', dim=0).mean()\n",
    "\n",
    "model = nn.Sequential(\n",
    "    GFRTLayer(gfrt, 1.0, dim=0),\n",
    "    GFRTLayer(gfrt, 0.0, dim=0),\n",
    ")\n",
    "print(model)\n",
    "optim = th.optim.Adam(model.parameters(), lr=1e-3)\n",
    "epochs = 2000\n",
    "\n",
    "for epoch in range(epochs + 1):\n",
    "    optim.zero_grad()\n",
    "    output = mse_loss(model(X), Y)\n",
    "    if epoch % 100 == 0:\n",
    "        print(f\"Epoch {epoch:4d} | Loss {output.item():<4.4f} | a1 = {model[0].order.item():.4f} | a2 = {model[1].order.item():.4f}\")\n",
    "    output.backward()\n",
    "    optim.step()\n",
    "print(f\"Original a: {original_order:.4f}, Final a1: {model[0].order.item():.4f} | Final a2: {model[1].order.item():.4f}\")\n",
    "print(f\"Final sum: {model[0].order.item() + model[1].order.item():.4f}\")"
   ]
  }
 ],
 "metadata": {
  "kernelspec": {
   "display_name": ".venv",
   "language": "python",
   "name": "python3"
  },
  "language_info": {
   "codemirror_mode": {
    "name": "ipython",
    "version": 3
   },
   "file_extension": ".py",
   "mimetype": "text/x-python",
   "name": "python",
   "nbconvert_exporter": "python",
   "pygments_lexer": "ipython3",
   "version": "3.11.8"
  }
 },
 "nbformat": 4,
 "nbformat_minor": 2
}
